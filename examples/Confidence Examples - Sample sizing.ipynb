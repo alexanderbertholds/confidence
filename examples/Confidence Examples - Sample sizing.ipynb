{
 "cells": [
  {
   "cell_type": "code",
   "execution_count": 9,
   "metadata": {},
   "outputs": [],
   "source": [
    "import spotify_confidence as conf\n",
    "import pandas as pd"
   ]
  },
  {
   "cell_type": "markdown",
   "metadata": {},
   "source": [
    "# Using the SampleSizeCalculator class "
   ]
  },
  {
   "cell_type": "markdown",
   "metadata": {},
   "source": [
    "### Two success metrics "
   ]
  },
  {
   "cell_type": "code",
   "execution_count": 22,
   "metadata": {},
   "outputs": [
    {
     "data": {
      "text/html": [
       "<div>\n",
       "<style scoped>\n",
       "    .dataframe tbody tr th:only-of-type {\n",
       "        vertical-align: middle;\n",
       "    }\n",
       "\n",
       "    .dataframe tbody tr th {\n",
       "        vertical-align: top;\n",
       "    }\n",
       "\n",
       "    .dataframe thead th {\n",
       "        text-align: right;\n",
       "    }\n",
       "</style>\n",
       "<table border=\"1\" class=\"dataframe\">\n",
       "  <thead>\n",
       "    <tr style=\"text-align: right;\">\n",
       "      <th></th>\n",
       "      <th>metric_name</th>\n",
       "      <th>adjusted_alpha_power_sample_size</th>\n",
       "      <th>null_hypothesis</th>\n",
       "      <th>alternative_hypothesis</th>\n",
       "      <th>required_sample_size_for_metric</th>\n",
       "    </tr>\n",
       "  </thead>\n",
       "  <tbody>\n",
       "    <tr>\n",
       "      <th>0</th>\n",
       "      <td>share_bananas_1d</td>\n",
       "      <td>0.0025</td>\n",
       "      <td>0.0</td>\n",
       "      <td>0.004319</td>\n",
       "      <td>1042871.0</td>\n",
       "    </tr>\n",
       "    <tr>\n",
       "      <th>1</th>\n",
       "      <td>bananas_per_user_7d</td>\n",
       "      <td>0.0025</td>\n",
       "      <td>0.0</td>\n",
       "      <td>0.045600</td>\n",
       "      <td>95460.0</td>\n",
       "    </tr>\n",
       "  </tbody>\n",
       "</table>\n",
       "</div>"
      ],
      "text/plain": [
       "           metric_name  adjusted_alpha_power_sample_size  null_hypothesis  \\\n",
       "0     share_bananas_1d                            0.0025              0.0   \n",
       "1  bananas_per_user_7d                            0.0025              0.0   \n",
       "\n",
       "   alternative_hypothesis  required_sample_size_for_metric  \n",
       "0                0.004319                        1042871.0  \n",
       "1                0.045600                          95460.0  "
      ]
     },
     "execution_count": 22,
     "metadata": {},
     "output_type": "execute_result"
    }
   ],
   "source": [
    "df = pd.DataFrame(\n",
    "    columns=[\"metric_name\", \"binary\", \"avg\", \"var\", \"mde\", \"nim\", \"preference\"],\n",
    "    data=[\n",
    "        [\"share_bananas_1d\", True, 0.7, 0.21, 0.00617, None, \"increase\"],\n",
    "        [\"bananas_per_user_7d\", False, 4.56, 2.13, 0.01, None, \"increase\"],\n",
    "    ],\n",
    ")\n",
    "\n",
    "ssc = conf.SampleSizeCalculator(\n",
    "    data_frame=df,\n",
    "    point_estimate_column=\"avg\",\n",
    "    var_column=\"var\",\n",
    "    metric_column=\"metric_name\",\n",
    "    is_binary_column=\"binary\",\n",
    "    interval_size=0.99,\n",
    "    power=0.8,\n",
    "    correction_method='bonferroni',\n",
    ")\n",
    "treatment_weights = [5000, 2000, 3000]\n",
    "ss = ssc.sample_size(\n",
    "    treatment_weights=treatment_weights,\n",
    "    mde_column=\"mde\",\n",
    "    nim_column=\"nim\",\n",
    "    preferred_direction_column=\"preference\",\n",
    "\n",
    ")\n",
    "\n",
    "ss[['metric_name', 'adjusted_alpha_power_sample_size', 'null_hypothesis', \n",
    "    'alternative_hypothesis','required_sample_size_for_metric']]"
   ]
  },
  {
   "cell_type": "markdown",
   "metadata": {},
   "source": [
    "The alpha has been divided by 4 because we have two metrics times two comparisons, (based on the three values in `treatment_weight` and the assumption that we want to compare two treatment groups to control.) The mde (minimum detectable effect size) is on a relative scale, so alterative hypothesis is `diff = avg * mde`."
   ]
  },
  {
   "cell_type": "markdown",
   "metadata": {},
   "source": [
    "### One success metric, one guardrail (with non-inferiority margin) "
   ]
  },
  {
   "cell_type": "code",
   "execution_count": 26,
   "metadata": {},
   "outputs": [
    {
     "data": {
      "text/html": [
       "<div>\n",
       "<style scoped>\n",
       "    .dataframe tbody tr th:only-of-type {\n",
       "        vertical-align: middle;\n",
       "    }\n",
       "\n",
       "    .dataframe tbody tr th {\n",
       "        vertical-align: top;\n",
       "    }\n",
       "\n",
       "    .dataframe thead th {\n",
       "        text-align: right;\n",
       "    }\n",
       "</style>\n",
       "<table border=\"1\" class=\"dataframe\">\n",
       "  <thead>\n",
       "    <tr style=\"text-align: right;\">\n",
       "      <th></th>\n",
       "      <th>metric_name</th>\n",
       "      <th>adjusted_alpha_power_sample_size</th>\n",
       "      <th>null_hypothesis</th>\n",
       "      <th>alternative_hypothesis</th>\n",
       "      <th>required_sample_size_for_metric</th>\n",
       "    </tr>\n",
       "  </thead>\n",
       "  <tbody>\n",
       "    <tr>\n",
       "      <th>0</th>\n",
       "      <td>share_bananas_1d</td>\n",
       "      <td>0.005</td>\n",
       "      <td>-0.004319</td>\n",
       "      <td>0.0000</td>\n",
       "      <td>644252.0</td>\n",
       "    </tr>\n",
       "    <tr>\n",
       "      <th>1</th>\n",
       "      <td>bananas_per_user_7d</td>\n",
       "      <td>0.005</td>\n",
       "      <td>0.000000</td>\n",
       "      <td>0.0456</td>\n",
       "      <td>58622.0</td>\n",
       "    </tr>\n",
       "  </tbody>\n",
       "</table>\n",
       "</div>"
      ],
      "text/plain": [
       "           metric_name  adjusted_alpha_power_sample_size  null_hypothesis  \\\n",
       "0     share_bananas_1d                             0.005        -0.004319   \n",
       "1  bananas_per_user_7d                             0.005         0.000000   \n",
       "\n",
       "   alternative_hypothesis  required_sample_size_for_metric  \n",
       "0                  0.0000                         644252.0  \n",
       "1                  0.0456                          58622.0  "
      ]
     },
     "execution_count": 26,
     "metadata": {},
     "output_type": "execute_result"
    }
   ],
   "source": [
    "df = pd.DataFrame(\n",
    "    columns=[\"metric_name\", \"binary\", \"avg\", \"var\", \"mde\", \"nim\", \"preference\"],\n",
    "    data=[\n",
    "        [\"share_bananas_1d\", True, 0.7, 0.21, None, 0.00617, \"increase\"],\n",
    "        [\"bananas_per_user_7d\", False, 4.56, 2.13, 0.01, None, \"increase\"],\n",
    "    ],\n",
    ")\n",
    "\n",
    "ssc = conf.SampleSizeCalculator(\n",
    "    data_frame=df,\n",
    "    point_estimate_column=\"avg\",\n",
    "    var_column=\"var\",\n",
    "    metric_column=\"metric_name\",\n",
    "    is_binary_column=\"binary\",\n",
    "    interval_size=0.99,\n",
    "    power=0.8,\n",
    "    correction_method='bonferroni',\n",
    ")\n",
    "treatment_weights = [5000, 2000]\n",
    "ss = ssc.sample_size(\n",
    "    treatment_weights=treatment_weights,\n",
    "    mde_column=\"mde\",\n",
    "    nim_column=\"nim\",\n",
    "    preferred_direction_column=\"preference\",\n",
    ")\n",
    "ss[['metric_name', 'adjusted_alpha_power_sample_size', 'null_hypothesis', \n",
    "    'alternative_hypothesis','required_sample_size_for_metric']]"
   ]
  },
  {
   "cell_type": "markdown",
   "metadata": {},
   "source": [
    "For the guardrail metric the null hypothesis is not 0, but rather `- avg* nim`, minus because our prefered direction of the metric is \"increase\", so we want to guard against a decrease."
   ]
  },
  {
   "cell_type": "markdown",
   "metadata": {},
   "source": [
    "# Interactive sample size calculation"
   ]
  },
  {
   "cell_type": "markdown",
   "metadata": {},
   "source": [
    "There's also has an interactive sample size calculator you can use to see how required sample sizes change when you change the input parameters."
   ]
  },
  {
   "cell_type": "code",
   "execution_count": 2,
   "metadata": {},
   "outputs": [
    {
     "data": {
      "application/vnd.jupyter.widget-view+json": {
       "model_id": "c72c08584aa7412e88eaa6bc6762a175",
       "version_major": 2,
       "version_minor": 0
      },
      "text/plain": [
       "VBox(children=(HTML(value='<h4>Target metric</h4>'), VBox(children=(HTML(value='<strong>Minimal Detectable Eff…"
      ]
     },
     "metadata": {},
     "output_type": "display_data"
    },
    {
     "data": {
      "application/vnd.jupyter.widget-view+json": {
       "model_id": "09975bb9de624a80b41cbf1a4cf590a9",
       "version_major": 2,
       "version_minor": 0
      },
      "text/plain": [
       "Output()"
      ]
     },
     "metadata": {},
     "output_type": "display_data"
    }
   ],
   "source": [
    "conf.SampleSize.binomial_interactive()"
   ]
  },
  {
   "cell_type": "code",
   "execution_count": 3,
   "metadata": {},
   "outputs": [
    {
     "data": {
      "application/vnd.jupyter.widget-view+json": {
       "model_id": "68600c75697d40af81c02895235846d2",
       "version_major": 2,
       "version_minor": 0
      },
      "text/plain": [
       "VBox(children=(HTML(value='<h4>Target metric</h4>'), VBox(children=(HTML(value='<strong>Minimal Detectable Eff…"
      ]
     },
     "metadata": {},
     "output_type": "display_data"
    },
    {
     "data": {
      "application/vnd.jupyter.widget-view+json": {
       "model_id": "ed23eeac01294b73a2f11e4c176e4242",
       "version_major": 2,
       "version_minor": 0
      },
      "text/plain": [
       "Output()"
      ]
     },
     "metadata": {},
     "output_type": "display_data"
    }
   ],
   "source": [
    "conf.SampleSize.continuous_interactive()"
   ]
  },
  {
   "cell_type": "code",
   "execution_count": 4,
   "metadata": {},
   "outputs": [
    {
     "data": {
      "text/plain": [
       "(89784, array([80806,  8979]), array([0.9, 0.1]))"
      ]
     },
     "execution_count": 4,
     "metadata": {},
     "output_type": "execute_result"
    }
   ],
   "source": [
    "conf.SampleSize.binomial(absolute_percentage_mde=0.01,\n",
    "                         baseline_proportion=0.1,\n",
    "                         alpha=0.05,\n",
    "                         power=0.85,\n",
    "                         treatments=2,\n",
    "                         comparisons='control_vs_all',\n",
    "                         treatment_allocations=[0.9, 0.1],\n",
    "                         bonferroni_correction=False)"
   ]
  },
  {
   "cell_type": "code",
   "execution_count": 5,
   "metadata": {},
   "outputs": [
    {
     "data": {
      "text/plain": [
       "(99760, array([89784,  9976]), array([0.9, 0.1]))"
      ]
     },
     "execution_count": 5,
     "metadata": {},
     "output_type": "execute_result"
    }
   ],
   "source": [
    "conf.SampleSize.continuous(average_absolute_mde=0.5,\n",
    "                           baseline_variance=250,\n",
    "                           alpha=0.05,\n",
    "                           power=0.85,\n",
    "                           treatments=2,\n",
    "                           comparisons='control_vs_all',\n",
    "                           treatment_allocations=[0.9, 0.1],\n",
    "                           bonferroni_correction=False)"
   ]
  },
  {
   "cell_type": "code",
   "execution_count": null,
   "metadata": {},
   "outputs": [],
   "source": []
  }
 ],
 "metadata": {
  "kernelspec": {
   "display_name": "Python 3 (ipykernel)",
   "language": "python",
   "name": "python3"
  },
  "language_info": {
   "codemirror_mode": {
    "name": "ipython",
    "version": 3
   },
   "file_extension": ".py",
   "mimetype": "text/x-python",
   "name": "python",
   "nbconvert_exporter": "python",
   "pygments_lexer": "ipython3",
   "version": "3.9.11"
  }
 },
 "nbformat": 4,
 "nbformat_minor": 4
}
